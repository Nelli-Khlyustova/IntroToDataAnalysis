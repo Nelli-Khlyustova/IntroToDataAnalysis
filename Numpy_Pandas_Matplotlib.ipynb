{
  "nbformat": 4,
  "nbformat_minor": 0,
  "metadata": {
    "colab": {
      "name": "HW1_Khlyustova.ipynb",
      "version": "0.3.2",
      "provenance": []
    },
    "kernelspec": {
      "display_name": "Python 3",
      "language": "python",
      "name": "python3"
    }
  },
  "cells": [
    {
      "metadata": {
        "id": "r-QT4868p7qV",
        "colab_type": "text"
      },
      "cell_type": "markdown",
      "source": [
        "# Домашнее задание 1 (NumPy, Pandas, Matplotlib)\n",
        "\n",
        "## Общая информация\n",
        "**Дата выдачи**: 31.01.2018\n",
        "\n",
        "**Срок сдачи**: 23:59 13.02.2018\n",
        "\n",
        "**О задании**\n",
        "\n",
        "Домашнее задание №1 ориентировано на более тесное знакомство с модулями NumPy, Pandas и Matplotlib путём решения набора задач. Целью задания является редактирование данного ipython notebook'a (в части блоков с кодом на python) таким образом, чтобы были реализованы указанные в задании функции.\n",
        "\n",
        "**Оценивание и штрафы**\n",
        "\n",
        "Каждая из задач имеет определенную «стоимость» (указана в скобках около задачи), оценка за задание выставляется следующим образом:\n",
        "Оценка за задание = Сумма баллов за решенные задачи/3\n",
        "\n",
        "Таким образом, максимально допустимая оценка за задание — 10 баллов.\n",
        "\n",
        "За сдачу задания позже срока на итоговую оценку за задание накладывается штраф в размере 0.2 балла в день, но получить отрицательное число баллов нельзя. При выставлении неполного балла за задание в связи с наличием ошибок на усмотрение проверяющего предусмотрена возможность исправить задание на указанных в ответном письме условиях.\n",
        "\n",
        "Задание выполняется **САМОСТОЯТЕЛЬНО**. «Похожие» решения считаются плагиатом и все задействованные студенты (в том числе те, у кого списали) не могут получить за него больше 0 баллов.\n",
        "\n",
        "**Формат сдачи**\n",
        "\n",
        "Для сдачи задания переименуйте получившийся файл \\*.ipynb в соответствии со следующим форматом: HW1_Username.ipynb, где Username — Ваша фамилия на латинице. Далее отправьте этот файл на почту курса ( hse.minor.dm+<номер группы>@gmail.com, указав в теме письма \"[ИАД-1] Задание N, ФИО\")"
      ]
    },
    {
      "metadata": {
        "id": "2Sf9_oS8p7qb",
        "colab_type": "code",
        "colab": {}
      },
      "cell_type": "code",
      "source": [
        ""
      ],
      "execution_count": 0,
      "outputs": []
    },
    {
      "metadata": {
        "id": "22KKodlSp7qr",
        "colab_type": "text"
      },
      "cell_type": "markdown",
      "source": [
        "\n",
        "\n",
        "## Инструкция по установке на Windows:\n",
        "\n",
        "Для установки всех необходимых библиотек на windows рекомендуется поставить дистрибутив Anaconda. Для этого нужно\n",
        "просто скачать необходимую версия с официального сайта https://www.continuum.io/downloads (мы рекомендуем ставить\n",
        "python версии 3.x). После установки дистрибутива необходимо запустить командную строку (для этого можно нажать win+R и набрать команду cmd). Затем, для запуска ipython notebook'а достаточно просто написать ipython notebook в\n",
        "командной строке, и у вашем браузере откроется стандартная страничка, которую вы уже много раз видели, используя\n",
        "виртуальную машину.\n",
        "\n",
        "## Инструкция по установке на Linux/Mac OS:\n",
        "\n",
        "Под Linux и Mac OS также доступен дистрибутив Anaconda, который можно скачать с https://www.continuum.io/downloads.\n",
        "Дальше опять же вам нужно открыть терминал и набрать там команду ipython notebook (либо возможно ipython3\n",
        "notebook).\n",
        "\n",
        "Если же вам по каким-либо причинам не хочется ставить Anaconda (например, вы не хотите, чтобы у вас появлялась еще\n",
        "одна версия python и были возможные конфликты путей, или вы просто чувствуете в себе Силу и хотите все поставить\n",
        "сами), то можно установить все необходимые библиотеки напрямую. Для этого выполните в терминале следующие две\n",
        "команды:\n",
        "\n",
        "```bash\n",
        "sudo apt-get install -y build-essential python3-numpy python3-scipy python3-matplotlib ipython3 \n",
        "ipython3-notebook python3-pandas python3-sympy python3-nose python3-pip swig\n",
        "\n",
        "sudo pip3 install cython scikit-image scikit-learn jupyter\n",
        "```\n",
        "Для Mac OS в первой команде нужно заменить apt-get на brew (если у вас стоит пакетный менеджер homebrew, если нет,\n",
        "его нужно предварительно установить). Если вы хотите использовать python версии 2.x, то во всех командах выше\n",
        "необходимо убрать цифру 3. То есть, например, писать не python3-numpy, а python-numpy, или не pip3 install, а pip\n",
        "install.\n",
        "    \n",
        "Также, можно воспользоваться инструкциями, описанными здесь:\n",
        "http://www.machinelearning.ru/wiki/images/1/10/MMP_Praktikum_317_2014a_Python.pdf\n",
        "\n",
        "Установка Python и всех необходимых модулей не является обязательной для сдачи данного задания."
      ]
    },
    {
      "metadata": {
        "id": "pay8cZYDp7qu",
        "colab_type": "code",
        "colab": {}
      },
      "cell_type": "code",
      "source": [
        "# Не забудьте импортировать все необходимые модуля для выполнения заданий\n",
        "import numpy as np\n",
        "import pandas as pd\n",
        "import matplotlib.pyplot as plt"
      ],
      "execution_count": 0,
      "outputs": []
    },
    {
      "metadata": {
        "id": "VfWh3RU9p7q0",
        "colab_type": "text"
      },
      "cell_type": "markdown",
      "source": [
        "## NumPy\n",
        "\n",
        "При решении задач запрещено использовать циклы. Обратите внимание на функции и методы np.max, np.min, np.arange, np.hstack, np.roll, np.random.uniform, np.random.rand, np.newaxis."
      ]
    },
    {
      "metadata": {
        "id": "mh2ucscZp7q2",
        "colab_type": "text"
      },
      "cell_type": "markdown",
      "source": [
        "#### 1. (1 балл) Написать функцию, которая принимает на вход два целочисленных массива одинаковой длины, и возвращает минимальный и максимальный из тех элементов этих двух массивов у которых совпадает и позиция и значение (то есть из всех элементов $\\{a[i]: a[i] = b[i]\\}$)\n",
        "\n",
        "    Например, для a = np.array([4, 2, 6, 3]) и b = np.array([4, 3, 6, -3]) ответом является кортеж (4, 6)."
      ]
    },
    {
      "metadata": {
        "id": "nKoKvG1Zp7q4",
        "colab_type": "code",
        "colab": {}
      },
      "cell_type": "code",
      "source": [
        "def minMaxEqual(a, b):\n",
        "    ind = a == b\n",
        "    allOtv = a[ind]\n",
        "    print(np.min(allOtv), np.max(allOtv))"
      ],
      "execution_count": 0,
      "outputs": []
    },
    {
      "metadata": {
        "id": "ReUiCRPYp7q9",
        "colab_type": "text"
      },
      "cell_type": "markdown",
      "source": [
        "#### 2. (2 балла) Дан numpy-вектор v длины n+1, который задает полином степени n. Найти вторую производную этого полинома (Например np.array([3, 0, 7, 1]) соответствует полиному 3+7x^2+x^3)\n",
        "\n",
        "    Для вектора из примера функция должна будет выдавать np.array([14, 6])"
      ]
    },
    {
      "metadata": {
        "id": "H0HmttEDp7q_",
        "colab_type": "code",
        "colab": {}
      },
      "cell_type": "code",
      "source": [
        "def second_derivative(v):\n",
        "    step1 = np.arange(v.shape[0])\n",
        "    v *= step1\n",
        "    step2 = step1 - 1\n",
        "    v *= step2\n",
        "    print(v[v != 0])"
      ],
      "execution_count": 0,
      "outputs": []
    },
    {
      "metadata": {
        "id": "qPGqLFWop7rE",
        "colab_type": "text"
      },
      "cell_type": "markdown",
      "source": [
        "#### 3. (1 балл) Дана матрица X и два вектора одинаковой длины i и j. Написать функцию, которая возвращает вектор np.array, состоящий из последовательности элементов $[X[i[0], j[0]], X[i[1], j[1]], ..., X[i[N-1], j[N-1]]]$. "
      ]
    },
    {
      "metadata": {
        "id": "SceaRqgsp7rG",
        "colab_type": "code",
        "colab": {}
      },
      "cell_type": "code",
      "source": [
        "def constructArray(X, i, j):\n",
        "    if max(i) < X.shape[0] and max(j) < X.shape[1] and min(i) >= 0 and min(j) >= 0:\n",
        "        otv = X[i,j]\n",
        "        print(otv)"
      ],
      "execution_count": 0,
      "outputs": []
    },
    {
      "metadata": {
        "id": "Te9bfdE_p7rM",
        "colab_type": "text"
      },
      "cell_type": "markdown",
      "source": [
        "#### 4. (2 балла) Написать функцию, возвращающую максимальный элемент в векторе x среди элементов, перед которыми стоит нулевой.\n",
        "\n",
        "    Для x = np.array([6, 2, 0, 3, 0, 0, 5, 7, 0]) ответом является 5."
      ]
    },
    {
      "metadata": {
        "scrolled": true,
        "id": "9DDmzA5rp7rN",
        "colab_type": "code",
        "colab": {}
      },
      "cell_type": "code",
      "source": [
        "def prevZeroMax(x):\n",
        "    if x[-1] == 0:\n",
        "        x = x[:-1]\n",
        "    zeros = np.array(range(x.shape[0]))[x == 0] + 1\n",
        "    print(max(x[zeros]))"
      ],
      "execution_count": 0,
      "outputs": []
    },
    {
      "metadata": {
        "id": "gWuYrh4Kp7rS",
        "colab_type": "text"
      },
      "cell_type": "markdown",
      "source": [
        "#### 5. (2 балла) Напишите функцию, которая принимает параметры lims: ndarray размера 2, k: float, b: float, n: int, noise_level: float и возвращает выборку из n объектов, сгенерированную по правилу y = kx + b + U[-noise_level; noise_level]. x генерируется равномерно из U[lims[0]; lims[1]] (U[a, b] — равномерное распределение на [a, b]). Функция должна возвращать кортеж, первым элементом которого будет массив x, и вторым элементом массив y — значения функции в точках этого массива."
      ]
    },
    {
      "metadata": {
        "id": "lKYAHINxp7rT",
        "colab_type": "code",
        "colab": {}
      },
      "cell_type": "code",
      "source": [
        "def gen_data(lims, k, b, n, noise_level):\n",
        "    x = np.random.uniform(lims[0], lims[1],size = n)\n",
        "    y = k * x + b + np.random.uniform(-noise_level, noise_level)\n",
        "    print((x,y))"
      ],
      "execution_count": 0,
      "outputs": []
    },
    {
      "metadata": {
        "id": "jP4t26fyp7rX",
        "colab_type": "text"
      },
      "cell_type": "markdown",
      "source": [
        "#### 6. (2 балла) Напишите функцию, которая вычисляет следующее матричное произведение: $x * x.T + a * I + b$. Здесь x и b — массивы np.array размерности N (одномерные, считаются вектор-столбцом). a — число, I — матрица, состоящая единиц на главной диагонали и нулей в остальных местах (единичная матрица). Сложение вектора b с матрицей x * x.T должно осуществляться по столбцам (вектор b должен прибавиться к каждому столбцу матрицы независимо).\n",
        "\n",
        "    Например, для x = np.array([[1],[2],[3]]), b = np.array([[0], [-2], [1]]), a = 4.5 функция должна выдавать \n",
        "    np.array([[5.5, 2.0, 3.0], [0.0, 6.5, 4.0], [4.0, 7.0, 14.5]])\n",
        "$x*x.T$ - матричное произведение"
      ]
    },
    {
      "metadata": {
        "id": "6BIAqOhvp7rY",
        "colab_type": "code",
        "colab": {},
        "outputId": "1c74ca09-8f41-45b4-afbf-0b16b2be3f95"
      },
      "cell_type": "code",
      "source": [
        "def calc_value(x, b, a):\n",
        "    I = np.identity(x.shape[0])\n",
        "    otv = np.dot(x, x.transpose()) + a * I + b\n",
        "    print(otv)\n",
        "x = np.array([[1],[2],[3]])\n",
        "b = np.array([[0], [-2], [1]])\n",
        "a = 4.5\n",
        "calc_value(x, b, a)"
      ],
      "execution_count": 0,
      "outputs": [
        {
          "output_type": "stream",
          "text": [
            "[[  5.5   2.    3. ]\n",
            " [  0.    6.5   4. ]\n",
            " [  4.    7.   14.5]]\n"
          ],
          "name": "stdout"
        }
      ]
    },
    {
      "metadata": {
        "id": "oHCOCbVgp7re",
        "colab_type": "text"
      },
      "cell_type": "markdown",
      "source": [
        "## Pandas\n",
        "\n",
        "\n",
        "Вам предстоит ответить на ряд вопросов о пассажирах Титаника.\n",
        "\n",
        "Данные: http://www.machinelearning.ru/wiki/images/3/32/Titanic.zip\n",
        "\n",
        "Описание датасета: https://www.kaggle.com/c/titanic/data\n",
        "\n",
        "Обратите внимание на функции и методы pd.read_csv, pd.DataFrame{ .head, .shape, .groupby, .fillna }, pd.Series{ .min, .max, .mean, .shape, .std, .corr }"
      ]
    },
    {
      "metadata": {
        "id": "9RWrasT0p7rf",
        "colab_type": "text"
      },
      "cell_type": "markdown",
      "source": [
        "#### 0. (0.5 балла) Загрузите данные в DataFrame и выведите его. Также напечатайте количество объектов и количество признаков (используйте функцию print):"
      ]
    },
    {
      "metadata": {
        "id": "FjRuBWAep7rg",
        "colab_type": "code",
        "colab": {},
        "outputId": "1bb3592c-2887-44e8-cfee-87a6aa455236"
      },
      "cell_type": "code",
      "source": [
        "data = pd.read_csv(\"titanic_train.csv\")\n",
        "print(data.shape[0], \" кол-во объектов\")\n",
        "print(data.shape[1], \" кол-во признаков\")\n",
        "print(data.head())"
      ],
      "execution_count": 0,
      "outputs": [
        {
          "output_type": "stream",
          "text": [
            "891  кол-во объектов\n",
            "12  кол-во признаков\n",
            "   PassengerId  Survived  Pclass  \\\n",
            "0            1         0       3   \n",
            "1            2         1       1   \n",
            "2            3         1       3   \n",
            "3            4         1       1   \n",
            "4            5         0       3   \n",
            "\n",
            "                                                Name     Sex   Age  SibSp  \\\n",
            "0                            Braund, Mr. Owen Harris    male  22.0      1   \n",
            "1  Cumings, Mrs. John Bradley (Florence Briggs Th...  female  38.0      1   \n",
            "2                             Heikkinen, Miss. Laina  female  26.0      0   \n",
            "3       Futrelle, Mrs. Jacques Heath (Lily May Peel)  female  35.0      1   \n",
            "4                           Allen, Mr. William Henry    male  35.0      0   \n",
            "\n",
            "   Parch            Ticket     Fare Cabin Embarked  \n",
            "0      0         A/5 21171   7.2500   NaN        S  \n",
            "1      0          PC 17599  71.2833   C85        C  \n",
            "2      0  STON/O2. 3101282   7.9250   NaN        S  \n",
            "3      0            113803  53.1000  C123        S  \n",
            "4      0            373450   8.0500   NaN        S  \n"
          ],
          "name": "stdout"
        }
      ]
    },
    {
      "metadata": {
        "id": "bbM_22b7p7rl",
        "colab_type": "text"
      },
      "cell_type": "markdown",
      "source": [
        "#### 1. (0.5 балла) Какие встречаются типы признаков? Придумайте постановку трех задач, которые можно решать, используя полученные данные: классификации, регрессии и кластеризации."
      ]
    },
    {
      "metadata": {
        "collapsed": true,
        "id": "99guvXamp7rm",
        "colab_type": "text"
      },
      "cell_type": "markdown",
      "source": [
        "Бинарные:\n",
        "Survived, Sex\n",
        "Вещественные:\n",
        "Age, Fare\n",
        "Категориальные:\n",
        "embarked, Cabin\n",
        "Порядковые:\n",
        "Pclass, ticket\n",
        "Номинальные:\n",
        "sibsp, parch\n",
        "\n",
        "Классификция: определить в каком городе пассажир взошел на борт\n",
        "Регрессия: определить по возрасту сколько заплатил человек\n",
        "Кластеризация: разбить людей по классу каюты"
      ]
    },
    {
      "metadata": {
        "id": "-30IFEUyp7rn",
        "colab_type": "text"
      },
      "cell_type": "markdown",
      "source": [
        "#### 2. (0.5 балла) Сохраните в переменную firstclass_num количество пассажиров, которые ехали первым классом, и выведите ее с помощью функции print()."
      ]
    },
    {
      "metadata": {
        "id": "-QN2k06Ip7ro",
        "colab_type": "code",
        "colab": {},
        "outputId": "4e89b8d1-1c55-46dc-aa98-dd6cf301f087"
      },
      "cell_type": "code",
      "source": [
        "firstclass_num = data[data.Pclass == 1].shape[0]\n",
        "print(firstclass_num)"
      ],
      "execution_count": 0,
      "outputs": [
        {
          "output_type": "stream",
          "text": [
            "216\n"
          ],
          "name": "stdout"
        }
      ]
    },
    {
      "metadata": {
        "id": "FvBdVeCap7rs",
        "colab_type": "text"
      },
      "cell_type": "markdown",
      "source": [
        "#### 3. (0.5 балла) Выведите минимальный, максимальный и средний возраст пассажиров."
      ]
    },
    {
      "metadata": {
        "id": "UgvBWB4-p7rt",
        "colab_type": "code",
        "colab": {},
        "outputId": "37868e3f-a1bf-4452-b43d-2ca7c81ef534"
      },
      "cell_type": "code",
      "source": [
        "minim = np.min(data.Age)\n",
        "maxim = np.max(data.Age)\n",
        "mea = np.mean(data.Age)\n",
        "print(minim, maxim, mea)"
      ],
      "execution_count": 0,
      "outputs": [
        {
          "output_type": "stream",
          "text": [
            "0.42 80.0 29.69911764705882\n"
          ],
          "name": "stdout"
        }
      ]
    },
    {
      "metadata": {
        "id": "OhW1eLGYp7rx",
        "colab_type": "text"
      },
      "cell_type": "markdown",
      "source": [
        "#### 4. (1 балл) Напечатайте стандартное отклонение цены билетов на Титаник"
      ]
    },
    {
      "metadata": {
        "id": "BhcH4Iv3p7rz",
        "colab_type": "code",
        "colab": {},
        "outputId": "ce32b130-c8f2-4102-e889-0a403438b0bc"
      },
      "cell_type": "code",
      "source": [
        "print(\"Стандартное отклонение: \", data['Fare'].std())"
      ],
      "execution_count": 0,
      "outputs": [
        {
          "output_type": "stream",
          "text": [
            "Стандартное отклонение:  49.693428597180905\n"
          ],
          "name": "stdout"
        }
      ]
    },
    {
      "metadata": {
        "id": "nk01UjU2p7r5",
        "colab_type": "text"
      },
      "cell_type": "markdown",
      "source": [
        "#### 5. (1 балл) Посчитайте коэффициент корреляции ценой на билет и возрастом пассажиров."
      ]
    },
    {
      "metadata": {
        "id": "I287qvAjp7r7",
        "colab_type": "code",
        "colab": {},
        "outputId": "875d8788-4ae5-4b5c-d829-f8823659489e"
      },
      "cell_type": "code",
      "source": [
        "cor = data.corr().loc['Age', 'Fare']\n",
        "print(cor)"
      ],
      "execution_count": 0,
      "outputs": [
        {
          "output_type": "stream",
          "text": [
            "0.096066691769\n"
          ],
          "name": "stdout"
        }
      ]
    },
    {
      "metadata": {
        "id": "63e_xUR1p7r-",
        "colab_type": "text"
      },
      "cell_type": "markdown",
      "source": [
        "#### 6. (2 балла) Создайте DataFrame в котором будет находиться средний возраст выживших пассажиров по каждому классу. Ваш код должен быть масштабируемым (то есть, должен работать при добавлении новых классов к исходному DataFrame'у)."
      ]
    },
    {
      "metadata": {
        "id": "1VEerLhRp7r_",
        "colab_type": "code",
        "colab": {},
        "outputId": "fd834103-510e-46f9-924e-c2b3e94b6cc4"
      },
      "cell_type": "code",
      "source": [
        "surv_data = data[data.Survived == 1]\n",
        "mean_age = surv_data.groupby('Pclass')['Age'].mean()\n",
        "print(mean_age.head())"
      ],
      "execution_count": 0,
      "outputs": [
        {
          "output_type": "stream",
          "text": [
            "Pclass\n",
            "1    35.368197\n",
            "2    25.901566\n",
            "3    20.646118\n",
            "Name: Age, dtype: float64\n"
          ],
          "name": "stdout"
        }
      ]
    },
    {
      "metadata": {
        "id": "C4YyZ7Crp7sC",
        "colab_type": "text"
      },
      "cell_type": "markdown",
      "source": [
        "#### 7. (2 балла) Посчитайте какой части пассажиров удалось выжить. Посчитайте отношение количества выживших мужчин к количеству выживших женщинам."
      ]
    },
    {
      "metadata": {
        "id": "2tqKvpayp7sC",
        "colab_type": "code",
        "colab": {},
        "outputId": "4a3ddd84-ba1f-4411-835d-71628bc7ae33"
      },
      "cell_type": "code",
      "source": [
        "all_survived = data.Survived\n",
        "all_survived = round(100 * all_survived.mean(), 2)\n",
        "print(all_survived, \"% выжило всего\")\n",
        "male_survived = data.Survived[data.Sex == 'male'].sum()\n",
        "female_survived = data.Survived[data.Sex == 'female'].sum()\n",
        "print(male_survived / female_survived, \"отношение количества выживших мужчин к количеству выживших женщин\")"
      ],
      "execution_count": 0,
      "outputs": [
        {
          "output_type": "stream",
          "text": [
            "38.38 % выжило всего\n",
            "0.4678111587982833 отношение количества выживших мужчин к количеству выживших женщин\n"
          ],
          "name": "stdout"
        }
      ]
    },
    {
      "metadata": {
        "id": "565Tg7Kkp7sG",
        "colab_type": "text"
      },
      "cell_type": "markdown",
      "source": [
        "#### 8. (1 балл) Верно ли, что чаще выживали пассажиры с более дорогими билетами? Кратко опишите в комментариях к коду, какие величины вы хотите посчитать, чтобы ответить на этот вопрос."
      ]
    },
    {
      "metadata": {
        "id": "s2VytZoup7sH",
        "colab_type": "code",
        "colab": {},
        "outputId": "a8a40946-3ba6-4f2e-eb78-1b0d4bdb9ad7"
      },
      "cell_type": "code",
      "source": [
        "#можно посчитать среднюю цену билета у погибших и выживших\n",
        "data[['Survived', 'Fare']].groupby(['Survived'], as_index = False).mean()"
      ],
      "execution_count": 0,
      "outputs": [
        {
          "output_type": "execute_result",
          "data": {
            "text/html": [
              "<div>\n",
              "<style>\n",
              "    .dataframe thead tr:only-child th {\n",
              "        text-align: right;\n",
              "    }\n",
              "\n",
              "    .dataframe thead th {\n",
              "        text-align: left;\n",
              "    }\n",
              "\n",
              "    .dataframe tbody tr th {\n",
              "        vertical-align: top;\n",
              "    }\n",
              "</style>\n",
              "<table border=\"1\" class=\"dataframe\">\n",
              "  <thead>\n",
              "    <tr style=\"text-align: right;\">\n",
              "      <th></th>\n",
              "      <th>Survived</th>\n",
              "      <th>Fare</th>\n",
              "    </tr>\n",
              "  </thead>\n",
              "  <tbody>\n",
              "    <tr>\n",
              "      <th>0</th>\n",
              "      <td>0</td>\n",
              "      <td>22.117887</td>\n",
              "    </tr>\n",
              "    <tr>\n",
              "      <th>1</th>\n",
              "      <td>1</td>\n",
              "      <td>48.395408</td>\n",
              "    </tr>\n",
              "  </tbody>\n",
              "</table>\n",
              "</div>"
            ],
            "text/plain": [
              "   Survived       Fare\n",
              "0         0  22.117887\n",
              "1         1  48.395408"
            ]
          },
          "metadata": {
            "tags": []
          },
          "execution_count": 45
        }
      ]
    },
    {
      "metadata": {
        "id": "WNodSZc7p7sK",
        "colab_type": "text"
      },
      "cell_type": "markdown",
      "source": [
        "#### 9. (1 балл) Замените все NaN в колонке Age на средние значения возраста по всем пассажирам."
      ]
    },
    {
      "metadata": {
        "id": "QRqryhe1p7sK",
        "colab_type": "code",
        "colab": {},
        "outputId": "394e76ce-a255-47cd-e889-2f8fb8de8d31"
      },
      "cell_type": "code",
      "source": [
        "new_data = data\n",
        "new_data.Age = data.Age.fillna(data.Age.mean())\n",
        "print(new_data)"
      ],
      "execution_count": 0,
      "outputs": [
        {
          "output_type": "stream",
          "text": [
            "     PassengerId  Survived  Pclass  \\\n",
            "0              1         0       3   \n",
            "1              2         1       1   \n",
            "2              3         1       3   \n",
            "3              4         1       1   \n",
            "4              5         0       3   \n",
            "5              6         0       3   \n",
            "6              7         0       1   \n",
            "7              8         0       3   \n",
            "8              9         1       3   \n",
            "9             10         1       2   \n",
            "10            11         1       3   \n",
            "11            12         1       1   \n",
            "12            13         0       3   \n",
            "13            14         0       3   \n",
            "14            15         0       3   \n",
            "15            16         1       2   \n",
            "16            17         0       3   \n",
            "17            18         1       2   \n",
            "18            19         0       3   \n",
            "19            20         1       3   \n",
            "20            21         0       2   \n",
            "21            22         1       2   \n",
            "22            23         1       3   \n",
            "23            24         1       1   \n",
            "24            25         0       3   \n",
            "25            26         1       3   \n",
            "26            27         0       3   \n",
            "27            28         0       1   \n",
            "28            29         1       3   \n",
            "29            30         0       3   \n",
            "..           ...       ...     ...   \n",
            "861          862         0       2   \n",
            "862          863         1       1   \n",
            "863          864         0       3   \n",
            "864          865         0       2   \n",
            "865          866         1       2   \n",
            "866          867         1       2   \n",
            "867          868         0       1   \n",
            "868          869         0       3   \n",
            "869          870         1       3   \n",
            "870          871         0       3   \n",
            "871          872         1       1   \n",
            "872          873         0       1   \n",
            "873          874         0       3   \n",
            "874          875         1       2   \n",
            "875          876         1       3   \n",
            "876          877         0       3   \n",
            "877          878         0       3   \n",
            "878          879         0       3   \n",
            "879          880         1       1   \n",
            "880          881         1       2   \n",
            "881          882         0       3   \n",
            "882          883         0       3   \n",
            "883          884         0       2   \n",
            "884          885         0       3   \n",
            "885          886         0       3   \n",
            "886          887         0       2   \n",
            "887          888         1       1   \n",
            "888          889         0       3   \n",
            "889          890         1       1   \n",
            "890          891         0       3   \n",
            "\n",
            "                                                  Name     Sex        Age  \\\n",
            "0                              Braund, Mr. Owen Harris    male  22.000000   \n",
            "1    Cumings, Mrs. John Bradley (Florence Briggs Th...  female  38.000000   \n",
            "2                               Heikkinen, Miss. Laina  female  26.000000   \n",
            "3         Futrelle, Mrs. Jacques Heath (Lily May Peel)  female  35.000000   \n",
            "4                             Allen, Mr. William Henry    male  35.000000   \n",
            "5                                     Moran, Mr. James    male  29.699118   \n",
            "6                              McCarthy, Mr. Timothy J    male  54.000000   \n",
            "7                       Palsson, Master. Gosta Leonard    male   2.000000   \n",
            "8    Johnson, Mrs. Oscar W (Elisabeth Vilhelmina Berg)  female  27.000000   \n",
            "9                  Nasser, Mrs. Nicholas (Adele Achem)  female  14.000000   \n",
            "10                     Sandstrom, Miss. Marguerite Rut  female   4.000000   \n",
            "11                            Bonnell, Miss. Elizabeth  female  58.000000   \n",
            "12                      Saundercock, Mr. William Henry    male  20.000000   \n",
            "13                         Andersson, Mr. Anders Johan    male  39.000000   \n",
            "14                Vestrom, Miss. Hulda Amanda Adolfina  female  14.000000   \n",
            "15                    Hewlett, Mrs. (Mary D Kingcome)   female  55.000000   \n",
            "16                                Rice, Master. Eugene    male   2.000000   \n",
            "17                        Williams, Mr. Charles Eugene    male  29.699118   \n",
            "18   Vander Planke, Mrs. Julius (Emelia Maria Vande...  female  31.000000   \n",
            "19                             Masselmani, Mrs. Fatima  female  29.699118   \n",
            "20                                Fynney, Mr. Joseph J    male  35.000000   \n",
            "21                               Beesley, Mr. Lawrence    male  34.000000   \n",
            "22                         McGowan, Miss. Anna \"Annie\"  female  15.000000   \n",
            "23                        Sloper, Mr. William Thompson    male  28.000000   \n",
            "24                       Palsson, Miss. Torborg Danira  female   8.000000   \n",
            "25   Asplund, Mrs. Carl Oscar (Selma Augusta Emilia...  female  38.000000   \n",
            "26                             Emir, Mr. Farred Chehab    male  29.699118   \n",
            "27                      Fortune, Mr. Charles Alexander    male  19.000000   \n",
            "28                       O'Dwyer, Miss. Ellen \"Nellie\"  female  29.699118   \n",
            "29                                 Todoroff, Mr. Lalio    male  29.699118   \n",
            "..                                                 ...     ...        ...   \n",
            "861                        Giles, Mr. Frederick Edward    male  21.000000   \n",
            "862  Swift, Mrs. Frederick Joel (Margaret Welles Ba...  female  48.000000   \n",
            "863                  Sage, Miss. Dorothy Edith \"Dolly\"  female  29.699118   \n",
            "864                             Gill, Mr. John William    male  24.000000   \n",
            "865                           Bystrom, Mrs. (Karolina)  female  42.000000   \n",
            "866                       Duran y More, Miss. Asuncion  female  27.000000   \n",
            "867               Roebling, Mr. Washington Augustus II    male  31.000000   \n",
            "868                        van Melkebeke, Mr. Philemon    male  29.699118   \n",
            "869                    Johnson, Master. Harold Theodor    male   4.000000   \n",
            "870                                  Balkic, Mr. Cerin    male  26.000000   \n",
            "871   Beckwith, Mrs. Richard Leonard (Sallie Monypeny)  female  47.000000   \n",
            "872                           Carlsson, Mr. Frans Olof    male  33.000000   \n",
            "873                        Vander Cruyssen, Mr. Victor    male  47.000000   \n",
            "874              Abelson, Mrs. Samuel (Hannah Wizosky)  female  28.000000   \n",
            "875                   Najib, Miss. Adele Kiamie \"Jane\"  female  15.000000   \n",
            "876                      Gustafsson, Mr. Alfred Ossian    male  20.000000   \n",
            "877                               Petroff, Mr. Nedelio    male  19.000000   \n",
            "878                                 Laleff, Mr. Kristo    male  29.699118   \n",
            "879      Potter, Mrs. Thomas Jr (Lily Alexenia Wilson)  female  56.000000   \n",
            "880       Shelley, Mrs. William (Imanita Parrish Hall)  female  25.000000   \n",
            "881                                 Markun, Mr. Johann    male  33.000000   \n",
            "882                       Dahlberg, Miss. Gerda Ulrika  female  22.000000   \n",
            "883                      Banfield, Mr. Frederick James    male  28.000000   \n",
            "884                             Sutehall, Mr. Henry Jr    male  25.000000   \n",
            "885               Rice, Mrs. William (Margaret Norton)  female  39.000000   \n",
            "886                              Montvila, Rev. Juozas    male  27.000000   \n",
            "887                       Graham, Miss. Margaret Edith  female  19.000000   \n",
            "888           Johnston, Miss. Catherine Helen \"Carrie\"  female  29.699118   \n",
            "889                              Behr, Mr. Karl Howell    male  26.000000   \n",
            "890                                Dooley, Mr. Patrick    male  32.000000   \n",
            "\n",
            "     SibSp  Parch            Ticket      Fare        Cabin Embarked  \n",
            "0        1      0         A/5 21171    7.2500          NaN        S  \n",
            "1        1      0          PC 17599   71.2833          C85        C  \n",
            "2        0      0  STON/O2. 3101282    7.9250          NaN        S  \n",
            "3        1      0            113803   53.1000         C123        S  \n",
            "4        0      0            373450    8.0500          NaN        S  \n",
            "5        0      0            330877    8.4583          NaN        Q  \n",
            "6        0      0             17463   51.8625          E46        S  \n",
            "7        3      1            349909   21.0750          NaN        S  \n",
            "8        0      2            347742   11.1333          NaN        S  \n",
            "9        1      0            237736   30.0708          NaN        C  \n",
            "10       1      1           PP 9549   16.7000           G6        S  \n",
            "11       0      0            113783   26.5500         C103        S  \n",
            "12       0      0         A/5. 2151    8.0500          NaN        S  \n",
            "13       1      5            347082   31.2750          NaN        S  \n",
            "14       0      0            350406    7.8542          NaN        S  \n",
            "15       0      0            248706   16.0000          NaN        S  \n",
            "16       4      1            382652   29.1250          NaN        Q  \n",
            "17       0      0            244373   13.0000          NaN        S  \n",
            "18       1      0            345763   18.0000          NaN        S  \n",
            "19       0      0              2649    7.2250          NaN        C  \n",
            "20       0      0            239865   26.0000          NaN        S  \n",
            "21       0      0            248698   13.0000          D56        S  \n",
            "22       0      0            330923    8.0292          NaN        Q  \n",
            "23       0      0            113788   35.5000           A6        S  \n",
            "24       3      1            349909   21.0750          NaN        S  \n",
            "25       1      5            347077   31.3875          NaN        S  \n",
            "26       0      0              2631    7.2250          NaN        C  \n",
            "27       3      2             19950  263.0000  C23 C25 C27        S  \n",
            "28       0      0            330959    7.8792          NaN        Q  \n",
            "29       0      0            349216    7.8958          NaN        S  \n",
            "..     ...    ...               ...       ...          ...      ...  \n",
            "861      1      0             28134   11.5000          NaN        S  \n",
            "862      0      0             17466   25.9292          D17        S  \n",
            "863      8      2          CA. 2343   69.5500          NaN        S  \n",
            "864      0      0            233866   13.0000          NaN        S  \n",
            "865      0      0            236852   13.0000          NaN        S  \n",
            "866      1      0     SC/PARIS 2149   13.8583          NaN        C  \n",
            "867      0      0          PC 17590   50.4958          A24        S  \n",
            "868      0      0            345777    9.5000          NaN        S  \n",
            "869      1      1            347742   11.1333          NaN        S  \n",
            "870      0      0            349248    7.8958          NaN        S  \n",
            "871      1      1             11751   52.5542          D35        S  \n",
            "872      0      0               695    5.0000  B51 B53 B55        S  \n",
            "873      0      0            345765    9.0000          NaN        S  \n",
            "874      1      0         P/PP 3381   24.0000          NaN        C  \n",
            "875      0      0              2667    7.2250          NaN        C  \n",
            "876      0      0              7534    9.8458          NaN        S  \n",
            "877      0      0            349212    7.8958          NaN        S  \n",
            "878      0      0            349217    7.8958          NaN        S  \n",
            "879      0      1             11767   83.1583          C50        C  \n",
            "880      0      1            230433   26.0000          NaN        S  \n",
            "881      0      0            349257    7.8958          NaN        S  \n",
            "882      0      0              7552   10.5167          NaN        S  \n",
            "883      0      0  C.A./SOTON 34068   10.5000          NaN        S  \n",
            "884      0      0   SOTON/OQ 392076    7.0500          NaN        S  \n",
            "885      0      5            382652   29.1250          NaN        Q  \n",
            "886      0      0            211536   13.0000          NaN        S  \n",
            "887      0      0            112053   30.0000          B42        S  \n",
            "888      1      2        W./C. 6607   23.4500          NaN        S  \n",
            "889      0      0            111369   30.0000         C148        C  \n",
            "890      0      0            370376    7.7500          NaN        Q  \n",
            "\n",
            "[891 rows x 12 columns]\n"
          ],
          "name": "stdout"
        }
      ]
    },
    {
      "metadata": {
        "id": "jSdabvHnp7sN",
        "colab_type": "text"
      },
      "cell_type": "markdown",
      "source": [
        "## Matplotlib\n",
        "\n",
        "Обратите внимание, что за отсутствие названий графиков и подписей к осям могут снижаться баллы! Вообще, все картинки должны быть самодостаточны и визуально удобны для восприятия, так чтобы не нужно было смотреть ваш код или знать задание, чтобы понятно было, что на них изображено.\n",
        "\n",
        "Обратите внимание на функции и методы plt.plot, plt.scatter, plt.legend, plt.title, plt.xlabel, plt.ylabel, plt.fill_between"
      ]
    },
    {
      "metadata": {
        "collapsed": true,
        "id": "VxJ9wtxVp7sO",
        "colab_type": "text"
      },
      "cell_type": "markdown",
      "source": [
        "#### 1. (3 балла) Используя функцию из задания №5 по numpy (gen_data), отобразите на графике сгенерированную выборку, а также настоящую прямую из которой выборка была получена. Добавьте на этот график прямую, которая приближает выборку, обучив для этого простейшую линейную регрессию. Чтобы получить параметры данной прямой, можно выполнить следующий код:\n",
        "\n",
        "        from sklearn.linear_model import LinearRegression as LR\n",
        "\n",
        "        data_x, data_y = gen_data(...)\n",
        "        regr = LR()\n",
        "        regr.fit(data_x, data_y)\n",
        "        k_learned, b_learned = regr.coef_, regr.intercept_\n",
        "        "
      ]
    },
    {
      "metadata": {
        "id": "q5cJa3Jep7sP",
        "colab_type": "code",
        "colab": {},
        "outputId": "7474dd88-f248-4fda-b5d9-79a44f0d7d61"
      },
      "cell_type": "code",
      "source": [
        "# В итоге ваш график должен получиться примерно таким:"
      ],
      "execution_count": 0,
      "outputs": [
        {
          "output_type": "execute_result",
          "data": {
            "image/png": "[encoded data removed]",
            "text/plain": [
              "<IPython.core.display.Image object>"
            ]
          },
          "metadata": {
            "tags": []
          },
          "execution_count": 4
        }
      ]
    },
    {
      "metadata": {
        "id": "hrJDKBr5p7sR",
        "colab_type": "code",
        "colab": {},
        "outputId": "e89f7e6b-c9f7-427a-91f6-4d32f90813a9"
      },
      "cell_type": "code",
      "source": [
        "from sklearn.linear_model import LinearRegression as LR\n",
        "\n",
        "def gen_data(lims, k, b, n, noise_level):\n",
        "    x = np.random.uniform(lims[0], lims[1],size = n)\n",
        "    y = k * x + b + np.random.uniform(-noise_level, noise_level)\n",
        "    return(x, y)\n",
        "lims, k, b, n, noise_level = np.array([0, 10]), 2, 0, 20, 100\n",
        "data_x, data_y = gen_data(lims, k, b, n, noise_level)\n",
        "regr = LR()\n",
        "regr.fit(data_x.reshape(-1, 1), data_y.reshape(-1, 1))\n",
        "k_learned, b_learned = regr.coef_, regr.intercept_\n",
        "\n",
        "plt.plot([data_x.min(), data_x.max()],\n",
        "         [data_y.min(), data_y.max()], color=\"blue\")\n",
        "plt.scatter(data_x, data_y)\n",
        "plt.show()"
      ],
      "execution_count": 0,
      "outputs": [
        {
          "output_type": "display_data",
          "data": {
            "image/png": "[encoded data removed]",
            "text/plain": [
              "<matplotlib.figure.Figure at 0x1c4ab3d2518>"
            ]
          },
          "metadata": {
            "tags": []
          }
        }
      ]
    },
    {
      "metadata": {
        "id": "luUW-Sf5p7sT",
        "colab_type": "text"
      },
      "cell_type": "markdown",
      "source": [
        "#### 2. (2 балла) Проверьте визуально полученную при выполнении задания №5 по pandas информацию о корреляции между ценой на билет и возрастом пассажира. Для этого предлагается отобразить все данные, откладывая на одной оси возраст пассажира, а на другой цену билета. Каждая точка должна быть визуально оботражена в виде треугольника зеленого цвета, направленного вниз. Сделайте возможность регулировать величину маркера (например, пусть она передается в качестве параметра в функцию, которая рисует график). Обратите внимание на параметры \"marker\", \"s\" и \"c\" функции plt.scatter."
      ]
    },
    {
      "metadata": {
        "id": "KVyjgIFzp7sU",
        "colab_type": "code",
        "colab": {},
        "outputId": "afdc9c3d-884f-4d34-cf36-29476df99e79"
      },
      "cell_type": "code",
      "source": [
        "# В итоге ваш график должен получиться примерно таким:"
      ],
      "execution_count": 0,
      "outputs": [
        {
          "output_type": "execute_result",
          "data": {
            "image/png": "[encoded data removed]",
            "text/plain": [
              "<IPython.core.display.Image object>"
            ]
          },
          "metadata": {
            "tags": []
          },
          "execution_count": 5
        }
      ]
    },
    {
      "metadata": {
        "id": "v91bWoNnp7sX",
        "colab_type": "code",
        "colab": {},
        "outputId": "30eba3f3-acbc-45f6-8aa5-2d17b3cdb3db"
      },
      "cell_type": "code",
      "source": [
        "plt.scatter(data['Age'], data['Fare'], c='green', marker='v', edgecolors='black', s=50)\n",
        "plt.axis([-10, 90, -100, 600])\n",
        "plt.xlabel('Age of a passenger')\n",
        "plt.ylabel('Fare paid')\n",
        "plt.title('Correlation between age and fare')\n",
        "plt.show()"
      ],
      "execution_count": 0,
      "outputs": [
        {
          "output_type": "display_data",
          "data": {
            "image/png": "[encoded data removed]",
            "text/plain": [
              "<matplotlib.figure.Figure at 0x246503aae10>"
            ]
          },
          "metadata": {
            "tags": []
          }
        }
      ]
    },
    {
      "metadata": {
        "id": "6r_h-Ee1p7sa",
        "colab_type": "text"
      },
      "cell_type": "markdown",
      "source": [
        "#### 3. (3 балла) Отобразите гистограмму распределения возрастов для каждого класса пассажиров (здесь опять нужно использовать данные из заданий по pandas). В результате вы должны получить три гистограммы, которые необходимо отобразить рядом друг с другом используя функцию plt.subplots. Каждая гистограмма должна быть нормирована. Обратите внимание на параметры figsize, sharey, sharex функции plt.subplots. Также полезными могут оказаться параметры bins, normed функции plt.hist"
      ]
    },
    {
      "metadata": {
        "id": "Aric95Wkp7sa",
        "colab_type": "code",
        "colab": {},
        "outputId": "4a7892aa-28ab-46dc-a629-5c4615781d3c"
      },
      "cell_type": "code",
      "source": [
        "# В итоге ваш график должен получиться примерно таким:"
      ],
      "execution_count": 0,
      "outputs": [
        {
          "output_type": "execute_result",
          "data": {
            "image/png": "[encoded data removed]",
            "text/plain": [
              "<IPython.core.display.Image object>"
            ]
          },
          "metadata": {
            "tags": []
          },
          "execution_count": 6
        }
      ]
    },
    {
      "metadata": {
        "id": "t0z3DnNup7se",
        "colab_type": "code",
        "colab": {},
        "outputId": "23e135f8-e9bd-4590-b610-f72559c7f377"
      },
      "cell_type": "code",
      "source": [
        "fig, axis = plt.subplots(1, 3, sharey=True, sharex=True)\n",
        "fig.set_size_inches(15, 5)\n",
        "axis[0].hist(data[data['Pclass'] == 1]['Age'].dropna(), bins=30, normed = 1, edgecolor='black', color='blue')\n",
        "axis[0].set_xlabel('Age')\n",
        "axis[0].set_ylabel('Scaled number of passengers')\n",
        "axis[0].set_title('Class 1')\n",
        "axis[1].hist(data[data['Pclass'] == 2]['Age'].dropna(), bins=30, normed = 1, edgecolor='black', color='blue')\n",
        "axis[1].set_xlabel('Age')\n",
        "axis[1].set_title('Class 2')\n",
        "axis[2].hist(data[data['Pclass'] == 3]['Age'].dropna(), bins=30, normed = 1, edgecolor='black', color='blue')\n",
        "axis[2].set_xlabel('Age')\n",
        "axis[2].set_title('Class 3')\n",
        "plt.show()"
      ],
      "execution_count": 0,
      "outputs": [
        {
          "output_type": "display_data",
          "data": {
            "image/png": "[encoded data removed]",
            "text/plain": [
              "<matplotlib.figure.Figure at 0x24650246320>"
            ]
          },
          "metadata": {
            "tags": []
          }
        }
      ]
    },
    {
      "metadata": {
        "id": "F3MDhEH6p7sh",
        "colab_type": "text"
      },
      "cell_type": "markdown",
      "source": [
        "#### 4. (2 балла) Используя следующую функцию для генерации выборки, отобразите на графике синим цветом функцию y(x), а также ее доверительный интервал в виде закрашенной зеленым цветом области от y[i] - error[i] до y[i] + error[i].\n",
        "\n",
        "        def gen_uncertain_data():\n",
        "            x = np.linspace(0, 30, 100)\n",
        "            y = np.sin(x/6*np.pi) + np.random.normal(0, 0.02, size=x.shape)\n",
        "            error = np.random.normal(0.1, 0.02, size=y.shape)\n",
        "            return x, y, error\n"
      ]
    },
    {
      "metadata": {
        "id": "V-hV4l-up7sh",
        "colab_type": "code",
        "colab": {},
        "outputId": "58247150-d6d5-4dee-8701-053115678b3a"
      },
      "cell_type": "code",
      "source": [
        "# В итоге ваш график должен получиться примерно таким:"
      ],
      "execution_count": 0,
      "outputs": [
        {
          "output_type": "execute_result",
          "data": {
            "image/png": "[encoded data removed]",
            "text/plain": [
              "<IPython.core.display.Image object>"
            ]
          },
          "metadata": {
            "tags": []
          },
          "execution_count": 7
        }
      ]
    },
    {
      "metadata": {
        "id": "dTxc5g8-p7sw",
        "colab_type": "code",
        "colab": {},
        "outputId": "3f97981c-4e53-4ca8-e73c-9c1e2b95138a"
      },
      "cell_type": "code",
      "source": [
        "def gen_uncertain_data():\n",
        "    x = np.linspace(0, 30, 100)\n",
        "    y = np.sin(x/6*np.pi) + np.random.normal(0, 0.02, size=x.shape)\n",
        "    error = np.random.normal(0.1, 0.02, size=y.shape)\n",
        "    return x, y, error\n",
        "x, y, error = gen_uncertain_data()\n",
        "plt.plot(x, y, 'b')\n",
        "plt.title('Confidence Interval of a function')\n",
        "plt.xlabel('x')\n",
        "plt.ylabel('sin(x/6*np.pi) + random noise')\n",
        "plt.fill_between(x, y-error, y+error, color='green')\n",
        "plt.show()"
      ],
      "execution_count": 0,
      "outputs": [
        {
          "output_type": "display_data",
          "data": {
            "image/png": "[encoded data removed]",
            "text/plain": [
              "<matplotlib.figure.Figure at 0x1c4ab499c50>"
            ]
          },
          "metadata": {
            "tags": []
          }
        }
      ]
    },
    {
      "metadata": {
        "id": "_PCTU9m4p7tE",
        "colab_type": "code",
        "colab": {}
      },
      "cell_type": "code",
      "source": [
        ""
      ],
      "execution_count": 0,
      "outputs": []
    }
  ]
}